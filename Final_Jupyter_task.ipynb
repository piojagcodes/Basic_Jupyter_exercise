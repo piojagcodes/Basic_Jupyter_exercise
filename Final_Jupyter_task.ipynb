{
 "cells": [
  {
   "cell_type": "code",
   "execution_count": 50,
   "metadata": {},
   "outputs": [],
   "source": [
    "import pandas as pd\n",
    "import matplotlib.pyplot as plt\n",
    "import numpy as np\n",
    "\n",
    "df = pd.read_csv(\"cycle_data.csv\", encoding='utf=8')"
   ]
  },
  {
   "cell_type": "code",
   "execution_count": 86,
   "metadata": {},
   "outputs": [
    {
     "data": {
      "text/html": [
       "<div>\n",
       "<style scoped>\n",
       "    .dataframe tbody tr th:only-of-type {\n",
       "        vertical-align: middle;\n",
       "    }\n",
       "\n",
       "    .dataframe tbody tr th {\n",
       "        vertical-align: top;\n",
       "    }\n",
       "\n",
       "    .dataframe thead th {\n",
       "        text-align: right;\n",
       "    }\n",
       "</style>\n",
       "<table border=\"1\" class=\"dataframe\">\n",
       "  <thead>\n",
       "    <tr style=\"text-align: right;\">\n",
       "      <th></th>\n",
       "      <th>issue_code_</th>\n",
       "      <th>created_at</th>\n",
       "      <th>severity</th>\n",
       "      <th>resolution</th>\n",
       "      <th>affected_components</th>\n",
       "      <th>creator_id</th>\n",
       "    </tr>\n",
       "  </thead>\n",
       "  <tbody>\n",
       "    <tr>\n",
       "      <th>0</th>\n",
       "      <td>CYCLE-10-1</td>\n",
       "      <td>13/04/2021 15:35:36</td>\n",
       "      <td>Low</td>\n",
       "      <td>Confirmed (S)</td>\n",
       "      <td>{Signup}</td>\n",
       "      <td>8124.0</td>\n",
       "    </tr>\n",
       "    <tr>\n",
       "      <th>1</th>\n",
       "      <td>CYCLE-10-2</td>\n",
       "      <td>13/04/2021 15:40:15</td>\n",
       "      <td>Low</td>\n",
       "      <td>Confirmed (S)</td>\n",
       "      <td>{Signup}</td>\n",
       "      <td>8124.0</td>\n",
       "    </tr>\n",
       "    <tr>\n",
       "      <th>2</th>\n",
       "      <td>CYCLE-10-3</td>\n",
       "      <td>13/04/2021 15:41:28</td>\n",
       "      <td>Low</td>\n",
       "      <td>Confirmed (S)</td>\n",
       "      <td>{Signup}</td>\n",
       "      <td>1066.0</td>\n",
       "    </tr>\n",
       "    <tr>\n",
       "      <th>3</th>\n",
       "      <td>CYCLE-10-4</td>\n",
       "      <td>13/04/2021 15:41:38</td>\n",
       "      <td>High</td>\n",
       "      <td>Confirmed (S)</td>\n",
       "      <td>{Signup}</td>\n",
       "      <td>4075.0</td>\n",
       "    </tr>\n",
       "    <tr>\n",
       "      <th>4</th>\n",
       "      <td>CYCLE-10-5</td>\n",
       "      <td>13/04/2021 15:43:07</td>\n",
       "      <td>Medium</td>\n",
       "      <td>Confirmed (S)</td>\n",
       "      <td>{Profile}</td>\n",
       "      <td>3230.0</td>\n",
       "    </tr>\n",
       "    <tr>\n",
       "      <th>...</th>\n",
       "      <td>...</td>\n",
       "      <td>...</td>\n",
       "      <td>...</td>\n",
       "      <td>...</td>\n",
       "      <td>...</td>\n",
       "      <td>...</td>\n",
       "    </tr>\n",
       "    <tr>\n",
       "      <th>95</th>\n",
       "      <td>CYCLE-1096</td>\n",
       "      <td>13/04/2021 21:39:13</td>\n",
       "      <td>Medium</td>\n",
       "      <td>Confirmed (S)</td>\n",
       "      <td>{Content}</td>\n",
       "      <td>6435.0</td>\n",
       "    </tr>\n",
       "    <tr>\n",
       "      <th>96</th>\n",
       "      <td>CYCLE-10-97</td>\n",
       "      <td>13/04/2021 21:46:58</td>\n",
       "      <td>Critical</td>\n",
       "      <td>Confirmed (S)</td>\n",
       "      <td>{Workouts}</td>\n",
       "      <td>5589.0</td>\n",
       "    </tr>\n",
       "    <tr>\n",
       "      <th>97</th>\n",
       "      <td>CYCLE-10-98</td>\n",
       "      <td>13/04/2021 21:54:29</td>\n",
       "      <td>Low</td>\n",
       "      <td>Confirmed (S)</td>\n",
       "      <td>{Workouts}</td>\n",
       "      <td>5271.0</td>\n",
       "    </tr>\n",
       "    <tr>\n",
       "      <th>98</th>\n",
       "      <td>CYCLE-10-99</td>\n",
       "      <td>13/04/2021 21:59:34</td>\n",
       "      <td>Medium</td>\n",
       "      <td>Confirm (S)</td>\n",
       "      <td>{Workouts}</td>\n",
       "      <td>5271.0</td>\n",
       "    </tr>\n",
       "    <tr>\n",
       "      <th>99</th>\n",
       "      <td>CYCLE-10-100</td>\n",
       "      <td>13/04/2021 22:08:14</td>\n",
       "      <td>Medium</td>\n",
       "      <td>Confirmed (S)</td>\n",
       "      <td>{Content}</td>\n",
       "      <td>5271.0</td>\n",
       "    </tr>\n",
       "  </tbody>\n",
       "</table>\n",
       "<p>100 rows × 6 columns</p>\n",
       "</div>"
      ],
      "text/plain": [
       "     issue_code_           created_at  severity     resolution  \\\n",
       "0     CYCLE-10-1  13/04/2021 15:35:36       Low  Confirmed (S)   \n",
       "1     CYCLE-10-2  13/04/2021 15:40:15       Low  Confirmed (S)   \n",
       "2     CYCLE-10-3  13/04/2021 15:41:28       Low  Confirmed (S)   \n",
       "3     CYCLE-10-4  13/04/2021 15:41:38      High  Confirmed (S)   \n",
       "4     CYCLE-10-5  13/04/2021 15:43:07    Medium  Confirmed (S)   \n",
       "..           ...                  ...       ...            ...   \n",
       "95    CYCLE-1096  13/04/2021 21:39:13    Medium  Confirmed (S)   \n",
       "96   CYCLE-10-97  13/04/2021 21:46:58  Critical  Confirmed (S)   \n",
       "97   CYCLE-10-98  13/04/2021 21:54:29       Low  Confirmed (S)   \n",
       "98   CYCLE-10-99  13/04/2021 21:59:34    Medium    Confirm (S)   \n",
       "99  CYCLE-10-100  13/04/2021 22:08:14    Medium  Confirmed (S)   \n",
       "\n",
       "   affected_components  creator_id  \n",
       "0             {Signup}      8124.0  \n",
       "1             {Signup}      8124.0  \n",
       "2             {Signup}      1066.0  \n",
       "3             {Signup}      4075.0  \n",
       "4            {Profile}      3230.0  \n",
       "..                 ...         ...  \n",
       "95           {Content}      6435.0  \n",
       "96          {Workouts}      5589.0  \n",
       "97          {Workouts}      5271.0  \n",
       "98          {Workouts}      5271.0  \n",
       "99           {Content}      5271.0  \n",
       "\n",
       "[100 rows x 6 columns]"
      ]
     },
     "execution_count": 86,
     "metadata": {},
     "output_type": "execute_result"
    },
    {
     "data": {
      "image/png": "[encoded data removed]",
      "text/plain": [
       "<Figure size 432x288 with 1 Axes>"
      ]
     },
     "metadata": {
      "needs_background": "light"
     },
     "output_type": "display_data"
    }
   ],
   "source": [
    "#Data Story\n",
    "\"\"\"\n",
    "Once upon time there was a big forest.\n",
    "It had gigantic trees which could be identified by number of leafs each by each.\n",
    "Those trees were starting to sway during every hour and this momentum from left to right side created a phenomenom.\n",
    "A phenomenom of covering holes in the ground with falling leafs.\n",
    "Thanks to wind which covered hole in the ground with leafs we could verify how often \n",
    "those events occured in pointed out hours.\n",
    " \n",
    "Legend\n",
    "Wind => users movement engaged in bug hunting\n",
    "Covering hole with leafs => procedure for bug submission\n",
    "Number of leafs on tree => ID Number 8000,7000,6000,5000  It's a big tree!\n",
    "Hole in the ground approximately => Low,Medium,High Error\n",
    "\"\"\"\n",
    "A = df[['created_at', 'severity']]\n",
    "df['severity'].hist()\n",
    "plt.title(\"Summarized number of threats with all kinds for errors\")\n",
    "plt.xlabel(\"Type of error\")\n",
    "plt.ylabel(\"Events occured\")\n",
    "df.sort_index()\n",
    "df.convert_dtypes().dtypes \n",
    "df.sort_index()\n"
   ]
  },
  {
   "cell_type": "code",
   "execution_count": 59,
   "metadata": {},
   "outputs": [
    {
     "name": "stdout",
     "output_type": "stream",
     "text": [
      "Size of sliced first hour from data: 42\n",
      "['13/04/2021 15:35:36', 'Low']\n",
      "['13/04/2021 15:40:15', 'Low']\n",
      "['13/04/2021 15:41:28', 'Low']\n",
      "['13/04/2021 15:41:38', 'High']\n",
      "['13/04/2021 15:43:07', 'Medium']\n",
      "['13/04/2021 15:43:32', 'Low']\n",
      "['13/04/2021 15:46:35', 'Low']\n",
      "['13/04/2021 15:46:44', 'Medium']\n",
      "['13/04/2021 15:46:53', 'High']\n",
      "['13/04/2021 15:47:03', 'Low']\n",
      "['13/04/2021 15:49:22', 'Medium']\n",
      "['13/04/2021 15:49:31', 'High']\n",
      "[nan, 'Medium']\n",
      "['13/04/2021 15:51:06', 'Low']\n",
      "['13/04/2021 15:51:34', 'High']\n",
      "['13/04/2021 15:53:54', 'High']\n",
      "['13/04/2021 15:54:23', 'Low']\n",
      "['13/04/2021 15:57:28', 'Medium']\n",
      "['13/04/2021 15:57:35', 'Medium']\n",
      "['13/04/2021 15:58:32', 'Medium']\n",
      "['13/04/2021 15:59:19', 'Low']\n"
     ]
    },
    {
     "data": {
      "text/plain": [
       "200"
      ]
     },
     "execution_count": 59,
     "metadata": {},
     "output_type": "execute_result"
    }
   ],
   "source": [
    "A_arr = A.values\n",
    "first_hour = A_arr[0:21]\n",
    "print(\"Size of sliced first hour from data: \" + str(first_hour.size))\n",
    "listed_first_hour = first_hour.tolist()\n",
    "print(*listed_first_hour, sep = \"\\n\")\n",
    "\n",
    "A_arr.size\n"
   ]
  },
  {
   "cell_type": "code",
   "execution_count": 144,
   "metadata": {},
   "outputs": [
    {
     "data": {
      "image/png": "[encoded data removed]",
      "text/plain": [
       "<Figure size 432x288 with 1 Axes>"
      ]
     },
     "metadata": {
      "needs_background": "light"
     },
     "output_type": "display_data"
    }
   ],
   "source": [
    "df.sort_values(by=\"created_at\", ascending=True, inplace=True)\n",
    "low_severity = df[df[\"severity\"] == \"Low\"]\n",
    "low_severity.plot.bar(x=\"severity\", fc=\"lightgray\", ec=\"red\")\n",
    "low_severity.set_index(\"created_at\")\n",
    "\n",
    "plt.title(\"Summarized number of threats with Low severity\")\n",
    "plt.xlabel(\"Threats\")\n",
    "plt.ylabel(\"Identification Number\")\n",
    "plt.tick_params(direction='out', length=10, width=10, colors='b', pad=10.0, labelsize=13.0)"
   ]
  },
  {
   "cell_type": "code",
   "execution_count": 28,
   "metadata": {},
   "outputs": [
    {
     "name": "stdout",
     "output_type": "stream",
     "text": [
      "['13/04/2021 16:00:51', 'Medium']\n",
      "['13/04/2021 16:00:55', 'High']\n",
      "['13/04/2021 16:02:48', 'Medium']\n",
      "['13/04/2021 16:02:54', 'Medium']\n",
      "['13/04/2021 16:03:13', 'High']\n",
      "['13/04/2021 16:05:16', 'Medium']\n",
      "['13/04/2021 16:05:28', 'Medium']\n",
      "['13/04/2021 16:05:45', 'Low']\n",
      "['13/04/2021 16:06:10', 'Low']\n",
      "['13/04/2021 16:06:36', 'Medium']\n",
      "['13/04/2021 16:09:21', 'High']\n",
      "['13/04/2021 16:10:19', 'Low']\n",
      "['13/04/2021 16:12:17', 'Low']\n",
      "['13/04/2021 16:13:14', 'Low']\n",
      "['13/04/2021 16:14:44', 'High']\n",
      "['13/04/2021 16:16:11', 'Medium']\n",
      "['13/04/2021 16:17:27', 'Medium']\n",
      "['13/04/2021 16:19:52', 'Medium']\n",
      "['13/04/2021 16:20:58', 'Low']\n",
      "['13/04/2021 16:21:22', 'High']\n",
      "['13/04/2021 16:22:34', 'Low']\n",
      "['13/04/2021 16:24:45', 'Low']\n",
      "['13/04/2021 16:25:49', 'Medium']\n",
      "['13/04/2021 16:26:02', 'Critical']\n",
      "['13/04/2021 16:26:15', 'Critical']\n",
      "['13/04/2021 16:28:58', 'Low']\n",
      "['13/04/2021 16:30:38', 'Low']\n",
      "['13/04/2021 16:31:21', 'Medium']\n",
      "['13/04/2021 16:32:11', 'Medium']\n",
      "['13/04/2021 16:33:23', 'High']\n",
      "['13/04/2021 16:35:00', 'Medium']\n",
      "['13/04/2021 16:35:59', 'Low']\n",
      "['13/04/2021 16:38:39', 'High']\n",
      "['13/04/2021 16:40:33', 'Medium']\n",
      "['13/04/2021 16:42:52', 'Critical']\n",
      "['13/04/2021 16:43:02', 'Medium']\n",
      "['13/04/2021 16:44:51', 'Low']\n",
      "['13/04/2021 16:45:38', 'Medium']\n",
      "['13/04/2021 16:45:50', 'Medium']\n",
      "['13/04/2021 16:46:16', 'High']\n",
      "['13/04/2021 16:49:29', 'Critical']\n"
     ]
    }
   ],
   "source": [
    "second_hour = A_arr[22:63]\n",
    "listed_second_hour = second_hour.tolist()\n",
    "print(*listed_second_hour, sep = \"\\n\")"
   ]
  },
  {
   "cell_type": "code",
   "execution_count": 153,
   "metadata": {},
   "outputs": [
    {
     "data": {
      "image/png": "[encoded data removed]",
      "text/plain": [
       "<Figure size 432x288 with 1 Axes>"
      ]
     },
     "metadata": {
      "needs_background": "light"
     },
     "output_type": "display_data"
    }
   ],
   "source": [
    "medium_severity = df[df[\"severity\"] == \"Medium\"]\n",
    "medium_severity.plot.bar(x=\"severity\", fc=\"lightgray\", ec=\"green\")\n",
    "medium_severity.set_index(\"created_at\")\n",
    "plt.title(\"Summarized number of threats with Medium severity\")\n",
    "plt.xlabel(\"Threats\")\n",
    "plt.ylabel(\"Identification Number\")\n",
    "plt.tick_params(direction='out', length=20, width=20, colors='r', pad=10.0, labelsize=7.0)\n",
    "\n"
   ]
  },
  {
   "cell_type": "code",
   "execution_count": 29,
   "metadata": {},
   "outputs": [
    {
     "name": "stdout",
     "output_type": "stream",
     "text": [
      "['13/04/2021 17:02:08', 'Low']\n",
      "['13/04/2021 17:02:25', 'High']\n",
      "['13/04/2021 17:03:58', 'Medium']\n",
      "['13/04/2021 17:04:33', 'High']\n",
      "['13/04/2021 17:07:06', 'Low']\n",
      "['13/04/2021 17:08:05', 'Medium']\n",
      "['13/04/2021 17:09:32', 'Medium']\n",
      "['13/04/2021 17:16:32', 'Low']\n",
      "['13/04/2021 17:28:46', 'High']\n",
      "['13/04/2021 17:34:03', 'Medium']\n",
      "['13/04/2021 17:38:23', 'Low']\n",
      "['13/04/2021 17:42:34', 'High']\n",
      "['13/04/2021 17:43:56', 'Medium']\n"
     ]
    }
   ],
   "source": [
    "third_hour = A_arr[64:77]\n",
    "listed_third_hour = third_hour.tolist()\n",
    "print(*listed_third_hour, sep = \"\\n\")"
   ]
  },
  {
   "cell_type": "code",
   "execution_count": 141,
   "metadata": {},
   "outputs": [
    {
     "data": {
      "image/png": "[encoded data removed]",
      "text/plain": [
       "<Figure size 432x288 with 1 Axes>"
      ]
     },
     "metadata": {
      "needs_background": "light"
     },
     "output_type": "display_data"
    }
   ],
   "source": [
    "high_severity = df[df[\"severity\"] == \"High\"]\n",
    "high_severity.plot.bar(x=\"severity\", fc=\"lightgray\", ec=\"purple\")\n",
    "high_severity.set_index(\"created_at\")\n",
    "plt.title(\"Summarized number of threats with High severity\")\n",
    "plt.xlabel(\"Threats\")\n",
    "plt.ylabel(\"Identification Number\")\n",
    "plt.tick_params(direction='out', length=10, width=10, colors='r', pad=10.0, labelsize=13.0)"
   ]
  },
  {
   "cell_type": "code",
   "execution_count": 30,
   "metadata": {},
   "outputs": [
    {
     "name": "stdout",
     "output_type": "stream",
     "text": [
      "['13/04/2021 18:42:59', 'Low']\n",
      "['13/04/2021 18:46:09', 'Medium']\n",
      "['13/04/2021 18:47:00', 'Medium']\n",
      "['13/04/2021 18:58:48', 'High']\n"
     ]
    }
   ],
   "source": [
    "forth_hour = A_arr[78:82]\n",
    "listed_forth_hour = forth_hour.tolist()\n",
    "print(*listed_forth_hour, sep = \"\\n\")"
   ]
  },
  {
   "cell_type": "code",
   "execution_count": 31,
   "metadata": {},
   "outputs": [
    {
     "name": "stdout",
     "output_type": "stream",
     "text": [
      "['13/04/2021 19:10:27', 'Medium']\n",
      "['13/04/2021 19:14:45', 'Low']\n",
      "['13/04/2021 19:24:03', 'High']\n",
      "['13/04/2021 19:42:28', 'Medium']\n"
     ]
    }
   ],
   "source": [
    "fifth_hour = A_arr[83:87]\n",
    "listed_fifth_hour = fifth_hour.tolist()\n",
    "print(*listed_fifth_hour, sep = \"\\n\")"
   ]
  },
  {
   "cell_type": "code",
   "execution_count": 32,
   "metadata": {},
   "outputs": [
    {
     "name": "stdout",
     "output_type": "stream",
     "text": [
      "['13/04/2021 20:40:51', 'Medium']\n",
      "['13/04/2021 20:44:48', 'Medium']\n",
      "['13/04/2021 20:47:27', 'Low']\n",
      "['13/04/2021 20:53:12', 'Medium']\n",
      "['13/04/2021 20:55:56', 'Low']\n"
     ]
    }
   ],
   "source": [
    "sixth_hour = A_arr[88:93]\n",
    "listed_sixth_hour = sixth_hour.tolist()\n",
    "print(*listed_sixth_hour, sep = \"\\n\")"
   ]
  },
  {
   "cell_type": "code",
   "execution_count": null,
   "metadata": {},
   "outputs": [],
   "source": []
  }
 ],
 "metadata": {
  "kernelspec": {
   "display_name": "Python 3",
   "language": "python",
   "name": "python3"
  },
  "language_info": {
   "codemirror_mode": {
    "name": "ipython",
    "version": 3
   },
   "file_extension": ".py",
   "mimetype": "text/x-python",
   "name": "python",
   "nbconvert_exporter": "python",
   "pygments_lexer": "ipython3",
   "version": "3.8.5"
  }
 },
 "nbformat": 4,
 "nbformat_minor": 4
}
